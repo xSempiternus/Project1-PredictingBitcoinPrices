{
 "cells": [
  {
   "attachments": {},
   "cell_type": "markdown",
   "metadata": {},
   "source": [
    "Preprocessing data"
   ]
  },
  {
   "cell_type": "code",
   "execution_count": 3,
   "metadata": {},
   "outputs": [],
   "source": [
    "import pandas as pd\n",
    "data = pd.read_csv('BTC-USD.csv')\n",
    "\n",
    "data = data.dropna() #Delete columns and rows with missing values\n",
    "data.Date = pd.to_datetime(data.Date) #Convert Date column to datetime\n",
    "data.set_index('Date', drop=True, inplace=True) #Set Date column as index\n",
    "diffs = (data.Close.diff()/data.Close).values[1:] #Calculate differences between consecutive values\n",
    "\n",
    "diff_len = len(diffs) #Length of differences array\n"
   ]
  },
  {
   "cell_type": "code",
   "execution_count": 4,
   "metadata": {},
   "outputs": [
    {
     "data": {
      "text/html": [
       "<div>\n",
       "<style scoped>\n",
       "    .dataframe tbody tr th:only-of-type {\n",
       "        vertical-align: middle;\n",
       "    }\n",
       "\n",
       "    .dataframe tbody tr th {\n",
       "        vertical-align: top;\n",
       "    }\n",
       "\n",
       "    .dataframe thead th {\n",
       "        text-align: right;\n",
       "    }\n",
       "</style>\n",
       "<table border=\"1\" class=\"dataframe\">\n",
       "  <thead>\n",
       "    <tr style=\"text-align: right;\">\n",
       "      <th></th>\n",
       "      <th>Open</th>\n",
       "      <th>High</th>\n",
       "      <th>Low</th>\n",
       "      <th>Close</th>\n",
       "      <th>Adj Close</th>\n",
       "      <th>Volume</th>\n",
       "    </tr>\n",
       "    <tr>\n",
       "      <th>Date</th>\n",
       "      <th></th>\n",
       "      <th></th>\n",
       "      <th></th>\n",
       "      <th></th>\n",
       "      <th></th>\n",
       "      <th></th>\n",
       "    </tr>\n",
       "  </thead>\n",
       "  <tbody>\n",
       "    <tr>\n",
       "      <th>2022-07-04</th>\n",
       "      <td>19297.314453</td>\n",
       "      <td>20258.748047</td>\n",
       "      <td>19063.066406</td>\n",
       "      <td>20231.261719</td>\n",
       "      <td>20231.261719</td>\n",
       "      <td>21594638208</td>\n",
       "    </tr>\n",
       "    <tr>\n",
       "      <th>2022-07-05</th>\n",
       "      <td>20225.353516</td>\n",
       "      <td>20635.466797</td>\n",
       "      <td>19341.232422</td>\n",
       "      <td>20190.115234</td>\n",
       "      <td>20190.115234</td>\n",
       "      <td>26715546990</td>\n",
       "    </tr>\n",
       "    <tr>\n",
       "      <th>2022-07-06</th>\n",
       "      <td>20194.619141</td>\n",
       "      <td>20595.529297</td>\n",
       "      <td>19823.511719</td>\n",
       "      <td>20548.246094</td>\n",
       "      <td>20548.246094</td>\n",
       "      <td>24598943708</td>\n",
       "    </tr>\n",
       "    <tr>\n",
       "      <th>2022-07-07</th>\n",
       "      <td>20547.814453</td>\n",
       "      <td>21771.816406</td>\n",
       "      <td>20296.103516</td>\n",
       "      <td>21637.587891</td>\n",
       "      <td>21637.587891</td>\n",
       "      <td>25814972520</td>\n",
       "    </tr>\n",
       "    <tr>\n",
       "      <th>2022-07-08</th>\n",
       "      <td>21637.154297</td>\n",
       "      <td>22314.941406</td>\n",
       "      <td>21257.453125</td>\n",
       "      <td>21731.117188</td>\n",
       "      <td>21731.117188</td>\n",
       "      <td>49899834488</td>\n",
       "    </tr>\n",
       "  </tbody>\n",
       "</table>\n",
       "</div>"
      ],
      "text/plain": [
       "                    Open          High           Low         Close   \n",
       "Date                                                                 \n",
       "2022-07-04  19297.314453  20258.748047  19063.066406  20231.261719  \\\n",
       "2022-07-05  20225.353516  20635.466797  19341.232422  20190.115234   \n",
       "2022-07-06  20194.619141  20595.529297  19823.511719  20548.246094   \n",
       "2022-07-07  20547.814453  21771.816406  20296.103516  21637.587891   \n",
       "2022-07-08  21637.154297  22314.941406  21257.453125  21731.117188   \n",
       "\n",
       "               Adj Close       Volume  \n",
       "Date                                   \n",
       "2022-07-04  20231.261719  21594638208  \n",
       "2022-07-05  20190.115234  26715546990  \n",
       "2022-07-06  20548.246094  24598943708  \n",
       "2022-07-07  21637.587891  25814972520  \n",
       "2022-07-08  21731.117188  49899834488  "
      ]
     },
     "execution_count": 4,
     "metadata": {},
     "output_type": "execute_result"
    }
   ],
   "source": [
    "data.head(5) #Print first 5 rows of data"
   ]
  }
 ],
 "metadata": {
  "kernelspec": {
   "display_name": "Python 3",
   "language": "python",
   "name": "python3"
  },
  "language_info": {
   "codemirror_mode": {
    "name": "ipython",
    "version": 3
   },
   "file_extension": ".py",
   "mimetype": "text/x-python",
   "name": "python",
   "nbconvert_exporter": "python",
   "pygments_lexer": "ipython3",
   "version": "3.9.12"
  },
  "orig_nbformat": 4
 },
 "nbformat": 4,
 "nbformat_minor": 2
}
